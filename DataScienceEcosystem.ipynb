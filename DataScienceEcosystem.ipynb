{
 "cells": [
  {
   "cell_type": "markdown",
   "id": "d057f66a",
   "metadata": {},
   "source": [
    "# Data Science Tools and Ecosystem"
   ]
  },
  {
   "cell_type": "markdown",
   "id": "b76d5f42",
   "metadata": {},
   "source": [
    "In this notebook, Data Science Tools and Ecosystem are summarized."
   ]
  },
  {
   "cell_type": "markdown",
   "id": "44ec4ab2",
   "metadata": {},
   "source": [
    "**Objectives:**\n",
    "\n",
    "- Criar um Jupyter Notebook\n",
    "- listar as principais linguagens para Ciências de Dados\n",
    "- Inserir código e células de markdown\n",
    "- Compartilhar seu notebook pelo GitHub"
   ]
  },
  {
   "cell_type": "markdown",
   "id": "ac88aac5",
   "metadata": {},
   "source": [
    "Some of the popular languages that Data Scientists use are:\n",
    "\n",
    "1. Python\n",
    "2. R\n",
    "3. SQL\n",
    "4. Julia\n",
    "5. Scala"
   ]
  },
  {
   "cell_type": "markdown",
   "id": "ba12504e",
   "metadata": {},
   "source": [
    "Some of the commonly used libraries used by Data Scientists include:\n",
    "\n",
    "1. NumPy\n",
    "2. Pandas\n",
    "3. Scikit-learn\n",
    "4. Matplotlib\n",
    "5. TensorFlow"
   ]
  },
  {
   "cell_type": "markdown",
   "id": "b8e90aa2",
   "metadata": {},
   "source": [
    "| **Data Science Tools** |\n",
    "|------------------------|\n",
    "| Jupyter Notebook       |\n",
    "| RStudio               |\n",
    "| Apache Spark          |"
   ]
  },
  {
   "cell_type": "markdown",
   "id": "5aaeab24",
   "metadata": {},
   "source": [
    "### Below are a few examples of evaluating arithmetic expressions in Python.\n",
    "\n",
    "- `3 + 5` → Adição (Resultado: 8)\n",
    "- `10 - 4` → Subtração (Resultado: 6)\n",
    "- `6 * 7` → Multiplicação (Resultado: 42)\n",
    "- `8 / 2` → Divisão (Resultado: 4.0)\n",
    "- `5 ** 2` → Exponenciação (Resultado: 25)\n",
    "- `10 % 3` → Módulo (Resultado: 1)"
   ]
  },
  {
   "cell_type": "code",
   "execution_count": 26,
   "id": "692c2f5c",
   "metadata": {},
   "outputs": [
    {
     "data": {
      "text/plain": [
       "17"
      ]
     },
     "execution_count": 26,
     "metadata": {},
     "output_type": "execute_result"
    }
   ],
   "source": [
    "#esta é uma expressão aritmética simples para adicionar vários números inteiros\n",
    "(3*4)+5"
   ]
  },
  {
   "cell_type": "code",
   "execution_count": 27,
   "id": "f60c8af3",
   "metadata": {},
   "outputs": [
    {
     "name": "stdout",
     "output_type": "stream",
     "text": [
      "3.3333333333333335\n"
     ]
    }
   ],
   "source": [
    "# Isso converterá 200 minutos em horas mergulhando em 60\n",
    "horas = 200 / 60\n",
    "print (horas)  # A saída esperada é 3.33 horas"
   ]
  },
  {
   "cell_type": "markdown",
   "id": "6171c96f",
   "metadata": {},
   "source": [
    "## Author\n",
    "\n",
    "Jefson Lima Profeta Ribeiro"
   ]
  },
  {
   "cell_type": "code",
   "execution_count": null,
   "id": "8b84505f",
   "metadata": {},
   "outputs": [],
   "source": []
  }
 ],
 "metadata": {
  "kernelspec": {
   "display_name": "Python 3 (ipykernel)",
   "language": "python",
   "name": "python3"
  },
  "language_info": {
   "codemirror_mode": {
    "name": "ipython",
    "version": 3
   },
   "file_extension": ".py",
   "mimetype": "text/x-python",
   "name": "python",
   "nbconvert_exporter": "python",
   "pygments_lexer": "ipython3",
   "version": "3.7.1"
  }
 },
 "nbformat": 4,
 "nbformat_minor": 5
}
